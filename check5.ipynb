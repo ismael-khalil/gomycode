{
  "nbformat": 4,
  "nbformat_minor": 0,
  "metadata": {
    "colab": {
      "name": "check5.ipynb",
      "provenance": []
    },
    "kernelspec": {
      "name": "python3",
      "display_name": "Python 3"
    },
    "language_info": {
      "name": "python"
    }
  },
  "cells": [
    {
      "cell_type": "code",
      "execution_count": 11,
      "metadata": {
        "colab": {
          "base_uri": "https://localhost:8080/"
        },
        "id": "oOFySNl0DppE",
        "outputId": "20a53e8c-9b7d-43bb-e8e4-756be9a8ad63"
      },
      "outputs": [
        {
          "output_type": "execute_result",
          "data": {
            "text/plain": [
              "(1, 2, 3)"
            ]
          },
          "metadata": {},
          "execution_count": 11
        }
      ],
      "source": [
        "#Q1\n",
        "class Point3D:\n",
        "  def __init__(self,x,y,z):\n",
        "    self.x = x\n",
        "    self.y = y\n",
        "    self.z = z\n",
        "\n",
        "  def myfun(self):\n",
        "    x= (self.x,self.y,self.z)\n",
        "    return (x)\n",
        "\n",
        "my_point = Point3D(1,2,3)\n",
        "my_point.myfun()"
      ]
    },
    {
      "cell_type": "code",
      "source": [
        "#Q2\n",
        "class rectangle:\n",
        "  def __init__(self,lenght,width):\n",
        "    self.lenght = lenght\n",
        "    self.width = width\n",
        "\n",
        "  def area(self):\n",
        "    print(self.lenght * self.width)\n",
        "  \n",
        "  def perimeter(self):\n",
        "    print((self.lenght + self.width)*2)\n",
        "\n",
        "my_rectangle = rectangle(4,3)\n",
        "my_rectangle.area()\n",
        "my_rectangle.perimeter()"
      ],
      "metadata": {
        "colab": {
          "base_uri": "https://localhost:8080/"
        },
        "id": "Mas8XuhnKSX_",
        "outputId": "94d4c35e-ad73-43d4-8837-65a0faef01e7"
      },
      "execution_count": 12,
      "outputs": [
        {
          "output_type": "stream",
          "name": "stdout",
          "text": [
            "12\n",
            "14\n"
          ]
        }
      ]
    },
    {
      "cell_type": "code",
      "source": [
        "#Q3\n",
        "class circle:\n",
        "  def __init__(self,o1,o2,r):\n",
        "    self.o1=o1\n",
        "    self.o2=o2\n",
        "    self.r=r\n",
        "\n",
        "  def area(self):\n",
        "    print(\"area = \" , 3.16*(self.r*self.r))\n",
        "  \n",
        "  def perimeter(self):\n",
        "    print(\"perimeter = \" , 2*3.16*self.r)\n",
        "  \n",
        "  def isinside(self,x,y):\n",
        "    if(x-self.o1^2)+(y-self.o2^2)<(self.r^2):\n",
        "      return(\"the point belongs to the circle\")\n",
        "    else:\n",
        "      return(\"The point doesnot\")\n",
        "\n",
        "var = circle(0,0,5)\n",
        "var.area()\n",
        "var.perimeter()\n",
        "var.isinside(1,1)"
      ],
      "metadata": {
        "colab": {
          "base_uri": "https://localhost:8080/",
          "height": 70
        },
        "id": "zIZyw8GQMRiu",
        "outputId": "9bb19920-0d0e-4c55-8740-6c72415693b9"
      },
      "execution_count": 23,
      "outputs": [
        {
          "output_type": "stream",
          "name": "stdout",
          "text": [
            "area =  79.0\n",
            "perimeter =  31.6\n"
          ]
        },
        {
          "output_type": "execute_result",
          "data": {
            "application/vnd.google.colaboratory.intrinsic+json": {
              "type": "string"
            },
            "text/plain": [
              "'the point belongs to the circle'"
            ]
          },
          "metadata": {},
          "execution_count": 23
        }
      ]
    },
    {
      "cell_type": "code",
      "source": [
        "#Q4\n",
        "class account:\n",
        "    def __init__(self):\n",
        "        self.balance = 0\n",
        "\n",
        "    def withdraw(self, amount):\n",
        "        self.balance -= amount\n",
        "        return self.balance\n",
        "\n",
        "    def deposit(self, amount):\n",
        "        self.balance += amount\n",
        "        return self.balance\n",
        "\n",
        "a = account()\n",
        "a.deposit(100)\n",
        "a.withdraw(50)\n",
        "a.withdraw(20)"
      ],
      "metadata": {
        "colab": {
          "base_uri": "https://localhost:8080/"
        },
        "id": "E050VHz0II6t",
        "outputId": "9ebbb670-bf40-4c6d-fd19-11d001f7ace9"
      },
      "execution_count": 17,
      "outputs": [
        {
          "output_type": "execute_result",
          "data": {
            "text/plain": [
              "30"
            ]
          },
          "metadata": {},
          "execution_count": 17
        }
      ]
    }
  ]
}