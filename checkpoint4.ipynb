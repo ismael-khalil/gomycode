{
  "nbformat": 4,
  "nbformat_minor": 0,
  "metadata": {
    "colab": {
      "name": "checkpoint4.ipynb",
      "provenance": [],
      "collapsed_sections": []
    },
    "kernelspec": {
      "name": "python3",
      "display_name": "Python 3"
    },
    "language_info": {
      "name": "python"
    }
  },
  "cells": [
    {
      "cell_type": "code",
      "execution_count": 1,
      "metadata": {
        "colab": {
          "base_uri": "https://localhost:8080/"
        },
        "id": "0xcZoVswsSaH",
        "outputId": "c3313f2a-0875-41a5-93c3-f5756d5d2874"
      },
      "outputs": [
        {
          "output_type": "stream",
          "name": "stdout",
          "text": [
            "5\n"
          ]
        }
      ],
      "source": [
        "a= 2\n",
        "b= 3\n",
        "c=5\n",
        "def maximum(a, b, c):\n",
        "    h = [a, b, c]\n",
        "    return max(h)\n",
        "print(maximum(a,b,c))"
      ]
    },
    {
      "cell_type": "code",
      "source": [
        "a = 40\n",
        "b = 10\n",
        "def addsub():\n",
        "  x = a + b\n",
        "  z = a-b\n",
        "  return x, z\n",
        "\n",
        "addsub()"
      ],
      "metadata": {
        "colab": {
          "base_uri": "https://localhost:8080/"
        },
        "id": "Y8CNYKvbsiyK",
        "outputId": "a01a4f3e-43f4-41a6-9e85-792ba8d1f0ab"
      },
      "execution_count": 5,
      "outputs": [
        {
          "output_type": "execute_result",
          "data": {
            "text/plain": [
              "(50, 30)"
            ]
          },
          "metadata": {},
          "execution_count": 5
        }
      ]
    },
    {
      "cell_type": "code",
      "source": [
        "l = [1,2,3,4,5]\n",
        "even = []\n",
        "odd= []\n",
        "def add(l):\n",
        "  sum = 0\n",
        "  for i in l:\n",
        "    sum += i\n",
        "  return sum\n",
        "\n",
        "def multiply(l):\n",
        "  mult = 1\n",
        "  for i in l:\n",
        "    mult = mult*i\n",
        "  return mult\n",
        "\n",
        "def addmult(l):\n",
        "  for i in l:\n",
        "    if i %2 == 0:\n",
        "      even.append (i)\n",
        "    else:\n",
        "      odd.append(i)\n",
        "  print(add(even))\n",
        "  print(multiply(odd))\n",
        "\n",
        "\n",
        "    \n",
        "\n",
        "\n",
        "\n",
        "print(add(l))\n",
        "\n",
        "print(multiply(l))\n",
        "addmult(l)\n"
      ],
      "metadata": {
        "colab": {
          "base_uri": "https://localhost:8080/"
        },
        "id": "WrDrb_keuG3_",
        "outputId": "1528bd8e-f921-4387-f56a-8e176b1af11f"
      },
      "execution_count": 38,
      "outputs": [
        {
          "output_type": "stream",
          "name": "stdout",
          "text": [
            "15\n",
            "120\n",
            "6\n",
            "15\n"
          ]
        }
      ]
    },
    {
      "cell_type": "code",
      "source": [
        "sample = 'green-red-yellow-black-white'\n",
        "x = sample.split('-')\n",
        "x.sort()\n",
        "print('-'.join(x))\n",
        "\n"
      ],
      "metadata": {
        "colab": {
          "base_uri": "https://localhost:8080/"
        },
        "id": "npY3t48h12fs",
        "outputId": "60180e21-d346-4253-8487-81ce6e54324a"
      },
      "execution_count": 52,
      "outputs": [
        {
          "output_type": "stream",
          "name": "stdout",
          "text": [
            "black-green-red-white-yellow\n"
          ]
        }
      ]
    }
  ]
}