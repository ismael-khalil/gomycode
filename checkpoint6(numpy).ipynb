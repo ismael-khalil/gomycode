{
  "nbformat": 4,
  "nbformat_minor": 0,
  "metadata": {
    "colab": {
      "name": "checkpoint6(numpy).ipynb",
      "provenance": []
    },
    "kernelspec": {
      "name": "python3",
      "display_name": "Python 3"
    },
    "language_info": {
      "name": "python"
    }
  },
  "cells": [
    {
      "cell_type": "code",
      "execution_count": 21,
      "metadata": {
        "colab": {
          "base_uri": "https://localhost:8080/"
        },
        "id": "3EJQKjwsIKP2",
        "outputId": "5c3c3404-9c06-41d8-ef83-74548d442ba7"
      },
      "outputs": [
        {
          "output_type": "stream",
          "name": "stdout",
          "text": [
            "array [[1 2]\n",
            " [3 4]]\n",
            "list [[1, 2], [3, 4]]\n"
          ]
        }
      ],
      "source": [
        "#Q1\n",
        "\n",
        "import numpy as np\n",
        "array = np.array([(1,2),(3,4)])\n",
        "print(\"array\", array)\n",
        "list = array.tolist()\n",
        "\n",
        "print(\"list\", list)\n"
      ]
    },
    {
      "cell_type": "code",
      "source": [
        "#Q2\n",
        "import numpy as np\n",
        "\n",
        "array = np.array([(1,2,3),(4,5,6),(7,8,9)])\n",
        "print(array)\n",
        "trace = np.trace(array)\n",
        "print(\"trace\",trace)"
      ],
      "metadata": {
        "colab": {
          "base_uri": "https://localhost:8080/"
        },
        "id": "e6ZosgFYKGZB",
        "outputId": "95bf9eb7-9a82-4d87-b11a-8c5a75b16c99"
      },
      "execution_count": 12,
      "outputs": [
        {
          "output_type": "stream",
          "name": "stdout",
          "text": [
            "[[1 2 3]\n",
            " [4 5 6]\n",
            " [7 8 9]]\n",
            "trace 15\n"
          ]
        }
      ]
    },
    {
      "cell_type": "code",
      "source": [
        "#Q3\n",
        "import numpy as np\n",
        "array = np.array([[2, 1, 9],\n",
        "                [3, 5, 1]])\n",
        "\n",
        "print(array[array>2])"
      ],
      "metadata": {
        "colab": {
          "base_uri": "https://localhost:8080/"
        },
        "id": "Ml296VNnPqc7",
        "outputId": "37c88c20-da5e-49ee-e955-0ceeff0a84b6"
      },
      "execution_count": 18,
      "outputs": [
        {
          "output_type": "stream",
          "name": "stdout",
          "text": [
            "[9 3 5]\n"
          ]
        }
      ]
    },
    {
      "cell_type": "code",
      "source": [
        "#Q4\n",
        "import numpy as np\n",
        "arr1 = np.array([(1,2,3)])\n",
        "arr2 = np.array([(4,5,6)])\n",
        "\n",
        "adding = arr1 + arr2\n",
        "print(adding)"
      ],
      "metadata": {
        "colab": {
          "base_uri": "https://localhost:8080/"
        },
        "id": "9Um2kys_UzOb",
        "outputId": "4d9bdcae-c5f1-4d37-e776-4eb05d7f0e93"
      },
      "execution_count": 20,
      "outputs": [
        {
          "output_type": "stream",
          "name": "stdout",
          "text": [
            "[[5 7 9]]\n"
          ]
        }
      ]
    },
    {
      "cell_type": "code",
      "source": [
        ""
      ],
      "metadata": {
        "id": "Z8Utn4URV-6E"
      },
      "execution_count": null,
      "outputs": []
    }
  ]
}