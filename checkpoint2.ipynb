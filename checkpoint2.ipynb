{
  "nbformat": 4,
  "nbformat_minor": 0,
  "metadata": {
    "colab": {
      "name": "checkpoint2.ipynb",
      "provenance": [],
      "collapsed_sections": []
    },
    "kernelspec": {
      "name": "python3",
      "display_name": "Python 3"
    },
    "language_info": {
      "name": "python"
    }
  },
  "cells": [
    {
      "cell_type": "code",
      "execution_count": 2,
      "metadata": {
        "colab": {
          "base_uri": "https://localhost:8080/"
        },
        "id": "Sf-AhFJ5-bd7",
        "outputId": "7afead0c-229e-44e0-e3ed-67c5be83b2a9"
      },
      "outputs": [
        {
          "output_type": "stream",
          "name": "stdout",
          "text": [
            "entre your first name: ismael\n",
            "entre your last name: khalil\n",
            "khalil ismael\n"
          ]
        }
      ],
      "source": [
        "#Q1\n",
        "fname = input(\"entre your first name: \")\n",
        "lname = input(\"entre your last name: \")\n",
        "print(lname +' '+ fname)"
      ]
    },
    {
      "cell_type": "code",
      "source": [
        "#Q2\n",
        "integer = (int(input('entre a number: ')))\n",
        "n1 = str(integer) + str(integer)\n",
        "n2 = str(integer) + str(integer) + str(integer)\n",
        "n11 = int(n1)\n",
        "n22 = int(n2)\n",
        "print(integer + n11 + n22)"
      ],
      "metadata": {
        "colab": {
          "base_uri": "https://localhost:8080/"
        },
        "id": "Spm3InHY_YRb",
        "outputId": "e146e76d-6aec-4f64-bafd-69733d34581a"
      },
      "execution_count": 4,
      "outputs": [
        {
          "output_type": "stream",
          "name": "stdout",
          "text": [
            "entre a number: 5\n",
            "615\n"
          ]
        }
      ]
    },
    {
      "cell_type": "code",
      "source": [
        "#Q3\n",
        "x = int(input('entre a number'))\n",
        "if x%2 == 0:\n",
        "  print('even')\n",
        "else:\n",
        "  print ('odd')"
      ],
      "metadata": {
        "colab": {
          "base_uri": "https://localhost:8080/"
        },
        "id": "E6nvF_NNBikS",
        "outputId": "b1814de5-0d9c-4eb8-b928-dfb2fe0bb654"
      },
      "execution_count": 9,
      "outputs": [
        {
          "output_type": "stream",
          "name": "stdout",
          "text": [
            "entre a number4\n",
            "even\n"
          ]
        }
      ]
    },
    {
      "cell_type": "code",
      "source": [
        "#Q4\n",
        "for i in range(2000,3200):\n",
        "  if i%7 == 0:\n",
        "    if i%5 != 0:\n",
        "      print(i)"
      ],
      "metadata": {
        "colab": {
          "base_uri": "https://localhost:8080/"
        },
        "id": "aiZQ9DUeClL1",
        "outputId": "83d2a022-ee10-4c65-fd02-42e7e0195c6c"
      },
      "execution_count": 11,
      "outputs": [
        {
          "output_type": "stream",
          "name": "stdout",
          "text": [
            "2002\n",
            "2009\n",
            "2016\n",
            "2023\n",
            "2037\n",
            "2044\n",
            "2051\n",
            "2058\n",
            "2072\n",
            "2079\n",
            "2086\n",
            "2093\n",
            "2107\n",
            "2114\n",
            "2121\n",
            "2128\n",
            "2142\n",
            "2149\n",
            "2156\n",
            "2163\n",
            "2177\n",
            "2184\n",
            "2191\n",
            "2198\n",
            "2212\n",
            "2219\n",
            "2226\n",
            "2233\n",
            "2247\n",
            "2254\n",
            "2261\n",
            "2268\n",
            "2282\n",
            "2289\n",
            "2296\n",
            "2303\n",
            "2317\n",
            "2324\n",
            "2331\n",
            "2338\n",
            "2352\n",
            "2359\n",
            "2366\n",
            "2373\n",
            "2387\n",
            "2394\n",
            "2401\n",
            "2408\n",
            "2422\n",
            "2429\n",
            "2436\n",
            "2443\n",
            "2457\n",
            "2464\n",
            "2471\n",
            "2478\n",
            "2492\n",
            "2499\n",
            "2506\n",
            "2513\n",
            "2527\n",
            "2534\n",
            "2541\n",
            "2548\n",
            "2562\n",
            "2569\n",
            "2576\n",
            "2583\n",
            "2597\n",
            "2604\n",
            "2611\n",
            "2618\n",
            "2632\n",
            "2639\n",
            "2646\n",
            "2653\n",
            "2667\n",
            "2674\n",
            "2681\n",
            "2688\n",
            "2702\n",
            "2709\n",
            "2716\n",
            "2723\n",
            "2737\n",
            "2744\n",
            "2751\n",
            "2758\n",
            "2772\n",
            "2779\n",
            "2786\n",
            "2793\n",
            "2807\n",
            "2814\n",
            "2821\n",
            "2828\n",
            "2842\n",
            "2849\n",
            "2856\n",
            "2863\n",
            "2877\n",
            "2884\n",
            "2891\n",
            "2898\n",
            "2912\n",
            "2919\n",
            "2926\n",
            "2933\n",
            "2947\n",
            "2954\n",
            "2961\n",
            "2968\n",
            "2982\n",
            "2989\n",
            "2996\n",
            "3003\n",
            "3017\n",
            "3024\n",
            "3031\n",
            "3038\n",
            "3052\n",
            "3059\n",
            "3066\n",
            "3073\n",
            "3087\n",
            "3094\n",
            "3101\n",
            "3108\n",
            "3122\n",
            "3129\n",
            "3136\n",
            "3143\n",
            "3157\n",
            "3164\n",
            "3171\n",
            "3178\n",
            "3192\n",
            "3199\n"
          ]
        }
      ]
    },
    {
      "cell_type": "code",
      "source": [
        "#Q5\n",
        "import math\n",
        "x = int(input('entre a number to get its fatorial: '))\n",
        "def factorial():\n",
        "  print(math.factorial(x))\n",
        "  \n",
        "factorial()"
      ],
      "metadata": {
        "colab": {
          "base_uri": "https://localhost:8080/"
        },
        "id": "YCRFhYGhEQ94",
        "outputId": "59a89695-5f3b-44b2-af25-d5774dc14ff8"
      },
      "execution_count": 6,
      "outputs": [
        {
          "output_type": "stream",
          "name": "stdout",
          "text": [
            "entre a number to get its fatorial: 8\n",
            "40320\n"
          ]
        }
      ]
    },
    {
      "cell_type": "code",
      "source": [
        "#another answer Q5\n",
        "x = int(input('entre a number'))\n",
        "def factorial():\n",
        "  fact = 1\n",
        "  if int(x) >= 1:\n",
        "    for i in range(1, int(x)+1):\n",
        "      fact = fact*i \n",
        "      print(fact)\n",
        "\n",
        "factorial()\n"
      ],
      "metadata": {
        "colab": {
          "base_uri": "https://localhost:8080/"
        },
        "id": "0g9wr3hsQSA9",
        "outputId": "c32813e7-18b5-49d3-a625-6d5ab43ef60c"
      },
      "execution_count": 19,
      "outputs": [
        {
          "output_type": "stream",
          "name": "stdout",
          "text": [
            "entre a number8\n",
            "1\n",
            "2\n",
            "6\n",
            "24\n",
            "120\n",
            "720\n",
            "5040\n",
            "40320\n"
          ]
        }
      ]
    },
    {
      "cell_type": "code",
      "source": [
        "#Q6\n",
        "x = input(\"entre a text\")\n",
        "def print_even():\n",
        "  for i in range(len(x)):\n",
        "    if i%2 == 0:\n",
        "      print(x[i])\n",
        "\n",
        "print_even()"
      ],
      "metadata": {
        "colab": {
          "base_uri": "https://localhost:8080/"
        },
        "id": "PTTKxqNyfjWr",
        "outputId": "ef2ef11f-2625-4309-bc60-20f094af568a"
      },
      "execution_count": 26,
      "outputs": [
        {
          "output_type": "stream",
          "name": "stdout",
          "text": [
            "entre a texthello team\n",
            "h\n",
            "l\n",
            "o\n",
            "t\n",
            "a\n"
          ]
        }
      ]
    },
    {
      "cell_type": "code",
      "source": [
        "#Q7\n",
        "x = int(input(\"entre a number: \"))\n",
        "if x >= 500:\n",
        "  print('price after discount: ' +str(x-(x*0.5)))\n",
        "elif x >= 200:\n",
        "  print('price after discount: ' +str(x-(x*0.3)))\n",
        "else:\n",
        "  print('price after discount: ' +str(x-(x*0.1)))"
      ],
      "metadata": {
        "colab": {
          "base_uri": "https://localhost:8080/"
        },
        "id": "31iZ7pGWicz-",
        "outputId": "e98ea49e-1aca-4715-964f-c47c5ad095ea"
      },
      "execution_count": 35,
      "outputs": [
        {
          "output_type": "stream",
          "name": "stdout",
          "text": [
            "entre a number: 100\n",
            "price after discount: 90.0\n"
          ]
        }
      ]
    }
  ]
}