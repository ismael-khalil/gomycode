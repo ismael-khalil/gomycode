{
  "nbformat": 4,
  "nbformat_minor": 0,
  "metadata": {
    "colab": {
      "name": "Untitled3.ipynb",
      "provenance": [],
      "collapsed_sections": []
    },
    "kernelspec": {
      "name": "python3",
      "display_name": "Python 3"
    },
    "language_info": {
      "name": "python"
    }
  },
  "cells": [
    {
      "cell_type": "code",
      "execution_count": null,
      "metadata": {
        "id": "2-tAaERzO2M3"
      },
      "outputs": [],
      "source": [
        "def binary_search(sequence, item):\n",
        "    begin_index = 0\n",
        "    end_index = len(sequence) - 1\n",
        "\n",
        "    while begin_index <= end_index:\n",
        "        midpoint = begin_index + (end_index - begin_index) // 2\n",
        "        midpoint_value = sequence[midpoint]\n",
        "        if midpoint_value == item:\n",
        "            return midpoint\n",
        "\n",
        "        elif item < midpoint_value:\n",
        "            end_index = midpoint - 1\n",
        "\n",
        "        else:\n",
        "            begin_index = midpoint + 1\n",
        "\n",
        "    return \"False not found\"\n",
        "\n",
        "sequence_a = [1,2,3,5,8]\n",
        "item_a = 6\n",
        "sequence_b = [1,2,3,5,8]\n",
        "item_b = 5\n",
        "\n",
        "print(binary_search(sequence_a, item_a),\"\\n\")\n",
        "print(binary_search(sequence_b, item_b))"
      ]
    },
    {
      "cell_type": "code",
      "source": [
        "#Question 2 \n",
        "def power(base,power):\n",
        "    counter = 1\n",
        "    while power > 0:\n",
        "        counter = counter * base\n",
        "        power = power - 1\n",
        "\n",
        "    return counter\n",
        "\n",
        "base = 3\n",
        "pwr = 6\n",
        "print(power(base,pwr))"
      ],
      "metadata": {
        "id": "osVTeg5mO8PK"
      },
      "execution_count": null,
      "outputs": []
    },
    {
      "cell_type": "code",
      "source": [
        "#Question 3\n",
        "def bubble_sort(sequence):\n",
        "    length = len(sequence)-1\n",
        "    sorted = False\n",
        "    while not sorted:\n",
        "        sorted = True\n",
        "        for i in range(0,length):\n",
        "            if sequence[i] > sequence[i+1]:\n",
        "                sorted = False\n",
        "                sequence[i] , sequence[i+1] = sequence[i+1] , sequence[i]\n",
        "    return sequence\n",
        "x =  [29,13,22,37,52,49,46,71,56]\n",
        "print(bubble_sort(x))"
      ],
      "metadata": {
        "id": "aUvvUbowPmgx"
      },
      "execution_count": null,
      "outputs": []
    },
    {
      "cell_type": "code",
      "source": [
        "#Question 4\n",
        "def m(liss):\n",
        "    if len(liss) > 1:\n",
        "        mid = len(liss) // 2\n",
        "        left_list=liss[:mid]\n",
        "        right_list=liss[mid:]\n",
        "\n",
        "        m(left_list)\n",
        "        m(right_list)\n",
        "        i = 0\n",
        "        j = 0\n",
        "        k = 0\n",
        "        while i < len(left_list) and j < len(right_list):\n",
        "            if left_list[i] <= right_list[j]:\n",
        "                liss[k] = left_list[i]\n",
        "                i += 1\n",
        "            else:\n",
        "                liss[k] = right_list[j]\n",
        "                j += 1\n",
        "            k += 1\n",
        "\n",
        "\n",
        "        while i < len(left_list):\n",
        "            liss[k] = left_list[i]\n",
        "            i += 1\n",
        "            k += 1\n",
        "        while j < len(right_list):\n",
        "            liss[k] = right_list[j]\n",
        "            j += 1\n",
        "            k += 1\n",
        "\n",
        "\n",
        "\n",
        "\n",
        "myList = [29,13,22,37,52,49,46,71,56]\n",
        "m(myList)\n",
        "print(myList)"
      ],
      "metadata": {
        "colab": {
          "base_uri": "https://localhost:8080/"
        },
        "id": "hqZdXJCsPrGx",
        "outputId": "5b75b4d0-5827-432e-9617-2c8a8ff19459"
      },
      "execution_count": 1,
      "outputs": [
        {
          "output_type": "stream",
          "name": "stdout",
          "text": [
            "[13, 22, 29, 37, 46, 49, 52, 56, 71]\n"
          ]
        }
      ]
    },
    {
      "cell_type": "code",
      "source": [
        "#Quesiton 5\n",
        "def quick_sort(sequence):\n",
        "    length = len(sequence)\n",
        "    if length <= 1:\n",
        "        return sequence\n",
        "    else :\n",
        "        pivot = sequence.pop()\n",
        "    items_greater = []\n",
        "    items_lower = []\n",
        "    for items in sequence:\n",
        "        if items > pivot:\n",
        "            items_greater.append(items)\n",
        "        else:\n",
        "            items_lower.append(items)\n",
        "    return quick_sort(items_lower) + [pivot] + quick_sort(items_greater)\n",
        "x = [29,13,22,37,52,49,46,71,56]\n",
        "print(quick_sort(x))"
      ],
      "metadata": {
        "id": "LzvBzFGNP7kw"
      },
      "execution_count": null,
      "outputs": []
    }
  ]
}