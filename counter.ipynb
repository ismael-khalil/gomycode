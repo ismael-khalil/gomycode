{
  "nbformat": 4,
  "nbformat_minor": 0,
  "metadata": {
    "colab": {
      "name": "counter.ipynb",
      "provenance": []
    },
    "kernelspec": {
      "name": "python3",
      "display_name": "Python 3"
    },
    "language_info": {
      "name": "python"
    }
  },
  "cells": [
    {
      "cell_type": "code",
      "execution_count": null,
      "metadata": {
        "id": "k3pgCALBU4VN"
      },
      "outputs": [],
      "source": [
        "import time\n",
        "\n",
        "seconds = int(input(\"Please enter the number of seconds : \"))\n",
        "\n",
        "def countdown(t):\n",
        "    while t:\n",
        "        mins = t // 60\n",
        "        secs = t % 60\n",
        "        timeformat = '{:02d}:{:02d}'.format(mins, secs)\n",
        "        print(timeformat, end='\\r')\n",
        "        time.sleep(1)\n",
        "        t -= 1\n",
        "    print(\"Fire in the hole!!\")\n",
        "\n",
        "countdown(seconds)"
      ]
    }
  ]
}