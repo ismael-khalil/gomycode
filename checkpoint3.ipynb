{
  "nbformat": 4,
  "nbformat_minor": 0,
  "metadata": {
    "colab": {
      "name": "checkpoint3.ipynb",
      "provenance": [],
      "collapsed_sections": [],
      "authorship_tag": "ABX9TyNxgrn3mmHFH6g70wDAP2No"
    },
    "kernelspec": {
      "name": "python3",
      "display_name": "Python 3"
    },
    "language_info": {
      "name": "python"
    }
  },
  "cells": [
    {
      "cell_type": "code",
      "execution_count": 8,
      "metadata": {
        "colab": {
          "base_uri": "https://localhost:8080/"
        },
        "id": "Oa_nNyDTFLch",
        "outputId": "e9dfca81-1ffe-4ee7-c5e6-f31118ee93d1"
      },
      "outputs": [
        {
          "output_type": "execute_result",
          "data": {
            "text/plain": [
              "36"
            ]
          },
          "metadata": {},
          "execution_count": 8
        }
      ],
      "source": [
        "#Q1\n",
        "list = [2, 3, 6]\n",
        "def multiplication():\n",
        "  x = 1\n",
        "  for i in list:\n",
        "      x = x*i\n",
        "  return x\n",
        "\n",
        "multiplication()"
      ]
    },
    {
      "cell_type": "code",
      "source": [
        "#Q2\n",
        "tuple1 = [(2, 5), (1, 2), (4, 4), (2, 3), (2, 1)]\n",
        "\n",
        "List2 =[]\n",
        "List3 =[]\n",
        "\n",
        "for t in tuple1:\n",
        "    List2.append(t[1],)\n",
        "    print(List2)\n",
        "List2.sort()\n",
        "print(List2)\n",
        "\n",
        "for l in List2:\n",
        "    for q in tuple1:\n",
        "        if l == int(q[1],):\n",
        "            List3.append(q)\n",
        "\n",
        "print(List3)"
      ],
      "metadata": {
        "colab": {
          "base_uri": "https://localhost:8080/"
        },
        "id": "wkGx-G-GoTBT",
        "outputId": "73edd855-c99c-4687-e781-7ac678caf9cc"
      },
      "execution_count": null,
      "outputs": [
        {
          "output_type": "stream",
          "name": "stdout",
          "text": [
            "[5]\n",
            "[5, 2]\n",
            "[5, 2, 4]\n",
            "[5, 2, 4, 3]\n",
            "[5, 2, 4, 3, 1]\n",
            "[1, 2, 3, 4, 5]\n",
            "[(2, 1), (1, 2), (2, 3), (4, 4), (2, 5)]\n"
          ]
        }
      ]
    },
    {
      "cell_type": "code",
      "source": [
        "#Q3\n",
        "\n",
        "d1 = {'a': 100, 'b': 200, 'c':300}\n",
        "d2 = {'a': 300, 'b': 200, 'd':400}\n",
        "d3 = dict(d1)\n",
        "d3.update(d2)\n",
        "\n",
        "for i,j in d1.items():\n",
        "  for k,n in d2.items():\n",
        "    if k == i:\n",
        "      d3[i]= (j + n)\n",
        "      \n",
        "print (d3)"
      ],
      "metadata": {
        "colab": {
          "base_uri": "https://localhost:8080/"
        },
        "id": "8v_4YOWaQ_gR",
        "outputId": "ca4cf82d-c1ca-4fbe-da8e-1a9d6edd65d5"
      },
      "execution_count": null,
      "outputs": [
        {
          "output_type": "stream",
          "name": "stdout",
          "text": [
            "{'a': 400, 'b': 400, 'c': 300, 'd': 400}\n"
          ]
        }
      ]
    },
    {
      "cell_type": "code",
      "source": [
        "#Q4\n",
        "x = int(input('entre a number: '))\n",
        "d = dict()\n",
        "\n",
        "for i in range( 1, x+1):\n",
        "    d[i] = i*i\n",
        "\n",
        "print(d)\n"
      ],
      "metadata": {
        "id": "78ktusvgWuRN",
        "colab": {
          "base_uri": "https://localhost:8080/"
        },
        "outputId": "b6dd3907-05f3-4d4e-884a-643e90d3d94a"
      },
      "execution_count": 5,
      "outputs": [
        {
          "output_type": "stream",
          "name": "stdout",
          "text": [
            "entre a number: 8\n",
            "{1: 1, 2: 4, 3: 9, 4: 16, 5: 25, 6: 36, 7: 49, 8: 64}\n"
          ]
        }
      ]
    },
    {
      "cell_type": "code",
      "source": [
        "#Q5\n",
        "list = [('item1', '12.20'), ('item2', '15.10'), ('item3', '24.5')]\n",
        "def sorting():\n",
        "  return(sorted(list, key = lambda x: float(x[1])))\n",
        "\n",
        "sorting()"
      ],
      "metadata": {
        "colab": {
          "base_uri": "https://localhost:8080/"
        },
        "id": "WZlIdimSvXa1",
        "outputId": "b7bba6f4-d8ed-4f05-8f51-279fd846befe"
      },
      "execution_count": 7,
      "outputs": [
        {
          "output_type": "execute_result",
          "data": {
            "text/plain": [
              "[('item1', '12.20'), ('item2', '15.10'), ('item3', '24.5')]"
            ]
          },
          "metadata": {},
          "execution_count": 7
        }
      ]
    }
  ]
}